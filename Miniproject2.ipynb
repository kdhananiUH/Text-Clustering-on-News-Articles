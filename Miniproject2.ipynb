{
 "cells": [
  {
   "cell_type": "code",
   "execution_count": 10,
   "metadata": {},
   "outputs": [
    {
     "data": {
      "text/html": [
       "<div>\n",
       "<style scoped>\n",
       "    .dataframe tbody tr th:only-of-type {\n",
       "        vertical-align: middle;\n",
       "    }\n",
       "\n",
       "    .dataframe tbody tr th {\n",
       "        vertical-align: top;\n",
       "    }\n",
       "\n",
       "    .dataframe thead th {\n",
       "        text-align: right;\n",
       "    }\n",
       "</style>\n",
       "<table border=\"1\" class=\"dataframe\">\n",
       "  <thead>\n",
       "    <tr style=\"text-align: right;\">\n",
       "      <th></th>\n",
       "      <th>abandon</th>\n",
       "      <th>abc</th>\n",
       "      <th>ability</th>\n",
       "      <th>abortion</th>\n",
       "      <th>absolute</th>\n",
       "      <th>abstain</th>\n",
       "      <th>abu</th>\n",
       "      <th>abuse</th>\n",
       "      <th>accept</th>\n",
       "      <th>access</th>\n",
       "      <th>...</th>\n",
       "      <th>yeah</th>\n",
       "      <th>year</th>\n",
       "      <th>yesterday</th>\n",
       "      <th>york</th>\n",
       "      <th>youll</th>\n",
       "      <th>young</th>\n",
       "      <th>youre</th>\n",
       "      <th>youve</th>\n",
       "      <th>zogby</th>\n",
       "      <th>zone</th>\n",
       "    </tr>\n",
       "  </thead>\n",
       "  <tbody>\n",
       "    <tr>\n",
       "      <th>0</th>\n",
       "      <td>0</td>\n",
       "      <td>0</td>\n",
       "      <td>0</td>\n",
       "      <td>0</td>\n",
       "      <td>0</td>\n",
       "      <td>0</td>\n",
       "      <td>0</td>\n",
       "      <td>0</td>\n",
       "      <td>0</td>\n",
       "      <td>0</td>\n",
       "      <td>...</td>\n",
       "      <td>0</td>\n",
       "      <td>0</td>\n",
       "      <td>0</td>\n",
       "      <td>0</td>\n",
       "      <td>0</td>\n",
       "      <td>0</td>\n",
       "      <td>0</td>\n",
       "      <td>0</td>\n",
       "      <td>0</td>\n",
       "      <td>1</td>\n",
       "    </tr>\n",
       "    <tr>\n",
       "      <th>1</th>\n",
       "      <td>0</td>\n",
       "      <td>0</td>\n",
       "      <td>0</td>\n",
       "      <td>0</td>\n",
       "      <td>0</td>\n",
       "      <td>0</td>\n",
       "      <td>0</td>\n",
       "      <td>0</td>\n",
       "      <td>0</td>\n",
       "      <td>0</td>\n",
       "      <td>...</td>\n",
       "      <td>0</td>\n",
       "      <td>0</td>\n",
       "      <td>0</td>\n",
       "      <td>0</td>\n",
       "      <td>0</td>\n",
       "      <td>0</td>\n",
       "      <td>0</td>\n",
       "      <td>0</td>\n",
       "      <td>0</td>\n",
       "      <td>0</td>\n",
       "    </tr>\n",
       "    <tr>\n",
       "      <th>2</th>\n",
       "      <td>0</td>\n",
       "      <td>0</td>\n",
       "      <td>0</td>\n",
       "      <td>0</td>\n",
       "      <td>0</td>\n",
       "      <td>1</td>\n",
       "      <td>0</td>\n",
       "      <td>0</td>\n",
       "      <td>0</td>\n",
       "      <td>0</td>\n",
       "      <td>...</td>\n",
       "      <td>0</td>\n",
       "      <td>0</td>\n",
       "      <td>0</td>\n",
       "      <td>0</td>\n",
       "      <td>0</td>\n",
       "      <td>0</td>\n",
       "      <td>0</td>\n",
       "      <td>0</td>\n",
       "      <td>0</td>\n",
       "      <td>0</td>\n",
       "    </tr>\n",
       "    <tr>\n",
       "      <th>3</th>\n",
       "      <td>0</td>\n",
       "      <td>0</td>\n",
       "      <td>0</td>\n",
       "      <td>0</td>\n",
       "      <td>0</td>\n",
       "      <td>0</td>\n",
       "      <td>0</td>\n",
       "      <td>0</td>\n",
       "      <td>0</td>\n",
       "      <td>0</td>\n",
       "      <td>...</td>\n",
       "      <td>0</td>\n",
       "      <td>0</td>\n",
       "      <td>2</td>\n",
       "      <td>0</td>\n",
       "      <td>0</td>\n",
       "      <td>1</td>\n",
       "      <td>0</td>\n",
       "      <td>0</td>\n",
       "      <td>0</td>\n",
       "      <td>0</td>\n",
       "    </tr>\n",
       "    <tr>\n",
       "      <th>4</th>\n",
       "      <td>0</td>\n",
       "      <td>0</td>\n",
       "      <td>0</td>\n",
       "      <td>0</td>\n",
       "      <td>0</td>\n",
       "      <td>0</td>\n",
       "      <td>0</td>\n",
       "      <td>0</td>\n",
       "      <td>0</td>\n",
       "      <td>0</td>\n",
       "      <td>...</td>\n",
       "      <td>0</td>\n",
       "      <td>1</td>\n",
       "      <td>1</td>\n",
       "      <td>0</td>\n",
       "      <td>0</td>\n",
       "      <td>1</td>\n",
       "      <td>0</td>\n",
       "      <td>0</td>\n",
       "      <td>0</td>\n",
       "      <td>0</td>\n",
       "    </tr>\n",
       "    <tr>\n",
       "      <th>...</th>\n",
       "      <td>...</td>\n",
       "      <td>...</td>\n",
       "      <td>...</td>\n",
       "      <td>...</td>\n",
       "      <td>...</td>\n",
       "      <td>...</td>\n",
       "      <td>...</td>\n",
       "      <td>...</td>\n",
       "      <td>...</td>\n",
       "      <td>...</td>\n",
       "      <td>...</td>\n",
       "      <td>...</td>\n",
       "      <td>...</td>\n",
       "      <td>...</td>\n",
       "      <td>...</td>\n",
       "      <td>...</td>\n",
       "      <td>...</td>\n",
       "      <td>...</td>\n",
       "      <td>...</td>\n",
       "      <td>...</td>\n",
       "      <td>...</td>\n",
       "    </tr>\n",
       "    <tr>\n",
       "      <th>3425</th>\n",
       "      <td>0</td>\n",
       "      <td>0</td>\n",
       "      <td>0</td>\n",
       "      <td>0</td>\n",
       "      <td>0</td>\n",
       "      <td>0</td>\n",
       "      <td>0</td>\n",
       "      <td>0</td>\n",
       "      <td>0</td>\n",
       "      <td>0</td>\n",
       "      <td>...</td>\n",
       "      <td>0</td>\n",
       "      <td>0</td>\n",
       "      <td>0</td>\n",
       "      <td>0</td>\n",
       "      <td>0</td>\n",
       "      <td>0</td>\n",
       "      <td>0</td>\n",
       "      <td>0</td>\n",
       "      <td>0</td>\n",
       "      <td>0</td>\n",
       "    </tr>\n",
       "    <tr>\n",
       "      <th>3426</th>\n",
       "      <td>0</td>\n",
       "      <td>0</td>\n",
       "      <td>0</td>\n",
       "      <td>0</td>\n",
       "      <td>0</td>\n",
       "      <td>0</td>\n",
       "      <td>0</td>\n",
       "      <td>0</td>\n",
       "      <td>0</td>\n",
       "      <td>0</td>\n",
       "      <td>...</td>\n",
       "      <td>0</td>\n",
       "      <td>0</td>\n",
       "      <td>0</td>\n",
       "      <td>0</td>\n",
       "      <td>0</td>\n",
       "      <td>0</td>\n",
       "      <td>0</td>\n",
       "      <td>0</td>\n",
       "      <td>0</td>\n",
       "      <td>0</td>\n",
       "    </tr>\n",
       "    <tr>\n",
       "      <th>3427</th>\n",
       "      <td>0</td>\n",
       "      <td>0</td>\n",
       "      <td>0</td>\n",
       "      <td>0</td>\n",
       "      <td>0</td>\n",
       "      <td>0</td>\n",
       "      <td>0</td>\n",
       "      <td>0</td>\n",
       "      <td>0</td>\n",
       "      <td>0</td>\n",
       "      <td>...</td>\n",
       "      <td>0</td>\n",
       "      <td>0</td>\n",
       "      <td>0</td>\n",
       "      <td>1</td>\n",
       "      <td>0</td>\n",
       "      <td>0</td>\n",
       "      <td>0</td>\n",
       "      <td>0</td>\n",
       "      <td>0</td>\n",
       "      <td>0</td>\n",
       "    </tr>\n",
       "    <tr>\n",
       "      <th>3428</th>\n",
       "      <td>0</td>\n",
       "      <td>0</td>\n",
       "      <td>0</td>\n",
       "      <td>0</td>\n",
       "      <td>0</td>\n",
       "      <td>0</td>\n",
       "      <td>0</td>\n",
       "      <td>0</td>\n",
       "      <td>0</td>\n",
       "      <td>0</td>\n",
       "      <td>...</td>\n",
       "      <td>0</td>\n",
       "      <td>0</td>\n",
       "      <td>0</td>\n",
       "      <td>0</td>\n",
       "      <td>0</td>\n",
       "      <td>0</td>\n",
       "      <td>0</td>\n",
       "      <td>0</td>\n",
       "      <td>0</td>\n",
       "      <td>0</td>\n",
       "    </tr>\n",
       "    <tr>\n",
       "      <th>3429</th>\n",
       "      <td>0</td>\n",
       "      <td>0</td>\n",
       "      <td>0</td>\n",
       "      <td>0</td>\n",
       "      <td>0</td>\n",
       "      <td>0</td>\n",
       "      <td>0</td>\n",
       "      <td>0</td>\n",
       "      <td>0</td>\n",
       "      <td>0</td>\n",
       "      <td>...</td>\n",
       "      <td>0</td>\n",
       "      <td>0</td>\n",
       "      <td>0</td>\n",
       "      <td>0</td>\n",
       "      <td>0</td>\n",
       "      <td>0</td>\n",
       "      <td>0</td>\n",
       "      <td>0</td>\n",
       "      <td>0</td>\n",
       "      <td>0</td>\n",
       "    </tr>\n",
       "  </tbody>\n",
       "</table>\n",
       "<p>3430 rows × 1545 columns</p>\n",
       "</div>"
      ],
      "text/plain": [
       "      abandon  abc  ability  abortion  absolute  abstain  abu  abuse  accept  \\\n",
       "0           0    0        0         0         0        0    0      0       0   \n",
       "1           0    0        0         0         0        0    0      0       0   \n",
       "2           0    0        0         0         0        1    0      0       0   \n",
       "3           0    0        0         0         0        0    0      0       0   \n",
       "4           0    0        0         0         0        0    0      0       0   \n",
       "...       ...  ...      ...       ...       ...      ...  ...    ...     ...   \n",
       "3425        0    0        0         0         0        0    0      0       0   \n",
       "3426        0    0        0         0         0        0    0      0       0   \n",
       "3427        0    0        0         0         0        0    0      0       0   \n",
       "3428        0    0        0         0         0        0    0      0       0   \n",
       "3429        0    0        0         0         0        0    0      0       0   \n",
       "\n",
       "      access  ...  yeah  year  yesterday  york  youll  young  youre  youve  \\\n",
       "0          0  ...     0     0          0     0      0      0      0      0   \n",
       "1          0  ...     0     0          0     0      0      0      0      0   \n",
       "2          0  ...     0     0          0     0      0      0      0      0   \n",
       "3          0  ...     0     0          2     0      0      1      0      0   \n",
       "4          0  ...     0     1          1     0      0      1      0      0   \n",
       "...      ...  ...   ...   ...        ...   ...    ...    ...    ...    ...   \n",
       "3425       0  ...     0     0          0     0      0      0      0      0   \n",
       "3426       0  ...     0     0          0     0      0      0      0      0   \n",
       "3427       0  ...     0     0          0     1      0      0      0      0   \n",
       "3428       0  ...     0     0          0     0      0      0      0      0   \n",
       "3429       0  ...     0     0          0     0      0      0      0      0   \n",
       "\n",
       "      zogby  zone  \n",
       "0         0     1  \n",
       "1         0     0  \n",
       "2         0     0  \n",
       "3         0     0  \n",
       "4         0     0  \n",
       "...     ...   ...  \n",
       "3425      0     0  \n",
       "3426      0     0  \n",
       "3427      0     0  \n",
       "3428      0     0  \n",
       "3429      0     0  \n",
       "\n",
       "[3430 rows x 1545 columns]"
      ]
     },
     "execution_count": 10,
     "metadata": {},
     "output_type": "execute_result"
    }
   ],
   "source": [
    "import pandas as pd\n",
    "df  = pd.read_csv('dailykos.csv')\n",
    "df"
   ]
  },
  {
   "attachments": {},
   "cell_type": "markdown",
   "metadata": {},
   "source": [
    "1. Let’s start by building a hierarchical clustering model. First, read the data set. Then, compute the Euclidian distances. You should cluster on all of the features.\n",
    "\n",
    "Plot the dendrogram.\n",
    "\n",
    "Creating the distances will probably take you a while. Why? Explain.\n",
    "\n",
    "\n",
    "- Computing the distance between all data points can be computationally expensive and time consuming. Euclidean distance computation involves subtracting each feature value of one point from the corresponding feature value of the other point, squaring the differences, summing the squared differences across all features, and taking the square root of the sum. The time required to compute the distances depends on the number of data points and number of features. As the number of data points increases, the number of distance calculations required increases exponentially, making the computation time grow rapidly. Additionally, if the dataset has many features, the Euclidean distance calculation for each pair of data points can become more computationally expensive."
   ]
  },
  {
   "cell_type": "code",
   "execution_count": 2,
   "metadata": {},
   "outputs": [
    {
     "name": "stderr",
     "output_type": "stream",
     "text": [
      "c:\\Users\\kaush\\anaconda3\\lib\\site-packages\\scipy\\cluster\\hierarchy.py:834: ClusterWarning: scipy.cluster: The symmetric non-negative hollow observation matrix looks suspiciously like an uncondensed distance matrix\n",
      "  return linkage(y, method='ward', metric='euclidean')\n",
      "C:\\Users\\kaush\\AppData\\Local\\Temp\\ipykernel_14696\\4275688181.py:15: ClusterWarning: scipy.cluster: The symmetric non-negative hollow observation matrix looks suspiciously like an uncondensed distance matrix\n",
      "  linkage_matrix = linkage(distances, method='ward')\n"
     ]
    },
    {
     "data": {
      "image/png": "[encoded data removed]",
      "text/plain": [
       "<Figure size 720x360 with 1 Axes>"
      ]
     },
     "metadata": {
      "needs_background": "light"
     },
     "output_type": "display_data"
    }
   ],
   "source": [
    "import pandas as pd\n",
    "from sklearn.cluster import AgglomerativeClustering\n",
    "from sklearn.metrics.pairwise import euclidean_distances\n",
    "import matplotlib.pyplot as plt\n",
    "from scipy.cluster.hierarchy import dendrogram, linkage\n",
    "\n",
    "# Compute Euclidean distances\n",
    "distances = euclidean_distances(df)\n",
    "\n",
    "# Perform hierarchical clustering\n",
    "model = AgglomerativeClustering(distance_threshold=0, n_clusters=None, linkage='ward', affinity='euclidean')\n",
    "model.fit(distances)\n",
    "\n",
    "# Plot dendrogram\n",
    "linkage_matrix = linkage(distances, method='ward')\n",
    "plt.figure(figsize=(10,5))\n",
    "plt.title('Dendrogram')\n",
    "plt.xlabel('Documents')\n",
    "plt.ylabel('Distance')\n",
    "dendrogram(linkage_matrix)\n",
    "plt.show()\n"
   ]
  },
  {
   "attachments": {},
   "cell_type": "markdown",
   "metadata": {},
   "source": [
    "2. (10 points) In this problem, we are trying to cluster news articles or blog posts into groups. This can be used to show readers categories to choose from when trying to decide what to read. Just thinking about this application, what are good choices for the number of clusters? Explain your thinking."
   ]
  },
  {
   "attachments": {},
   "cell_type": "markdown",
   "metadata": {},
   "source": [
    "There are several methods to find the ideal number of clusters, such as elbow method, silhouette statistic, Gap statistics etc. We have explained elbow method and silhouette coefficient method below.\n",
    "\n",
    "1. The elbow method: This method involves plotting the within-cluster sum of squares (WSS) for different values of the k (number of clusters). The elbow point is the value of k where the WSS starts to level off. This is often used as a heuristic for the ideal number of clusters.\n",
    "\n",
    "2. The silhouette coefficient: This method measures the average similarity of a data point to the other data points in its cluster, compared to the average similarity of the data point to the data points in other clusters. The silhouette coefficient is typically plotted for different values of k. The value of k that corresponds to the highest average silhouette coefficient is often used as the ideal number of clusters.\n",
    "Thus, a good range for the number of clusters is 5 to 10, which offers a good balance of granularity and interpretability. It is important to note that there is no single \"correct\" method for determining the ideal number of clusters. The best method to use will depend on the specific dataset and the desired results.\n",
    "\n",
    "- Thus, a good range for the number of clusters is 5 to 10, which offers a good balance of granularity and interpretability. It is important to note that there is no single \"correct\" method for determining the ideal number of clusters. The best method to use will depend on the specific dataset and the desired results.\n"
   ]
  },
  {
   "attachments": {},
   "cell_type": "markdown",
   "metadata": {},
   "source": [
    "3. Let’s pick 7 clusters and answer the following questions:\n",
    "\n",
    "How many observations are in cluster 3?\n",
    "Which cluster has the most observations?\n",
    "Which cluster has the fewest observations?"
   ]
  },
  {
   "cell_type": "code",
   "execution_count": 11,
   "metadata": {},
   "outputs": [
    {
     "name": "stdout",
     "output_type": "stream",
     "text": [
      "Number of observations in cluster 3: 1761\n"
     ]
    }
   ],
   "source": [
    "import pandas as pd\n",
    "from sklearn.cluster import AgglomerativeClustering\n",
    "\n",
    "# Cluster the data into 7 clusters using hierarchical clustering\n",
    "model = AgglomerativeClustering(n_clusters=7, linkage='ward',affinity='euclidean')\n",
    "clusters = model.fit_predict(df)\n",
    "#df['clusters'] = clusters\n",
    "\n",
    "# How many observations are in cluster 3?\n",
    "print(f\"Number of observations in cluster 3: {sum(clusters == 2)}\")"
   ]
  },
  {
   "cell_type": "code",
   "execution_count": 12,
   "metadata": {},
   "outputs": [
    {
     "name": "stdout",
     "output_type": "stream",
     "text": [
      "Number of Observations in Cluster 3: 1761\n",
      "Number of Observations in Cluster 2: 167\n",
      "Number of Observations in Cluster 4: 324\n",
      "Number of Observations in Cluster 1: 803\n",
      "Number of Observations in Cluster 7: 50\n",
      "Number of Observations in Cluster 5: 270\n",
      "Number of Observations in Cluster 6: 55\n"
     ]
    }
   ],
   "source": [
    "from collections import Counter\n",
    "\n",
    "# Count the number of times each cluster label appears in the `clusters` array\n",
    "cluster_counts = Counter(clusters)\n",
    "\n",
    "# Print the number of observations in each cluster\n",
    "for cluster, count in cluster_counts.items():\n",
    "    print(f\"Number of Observations in Cluster {cluster+1}: {count}\")"
   ]
  },
  {
   "cell_type": "code",
   "execution_count": 13,
   "metadata": {},
   "outputs": [
    {
     "name": "stdout",
     "output_type": "stream",
     "text": [
      "Maximum number of observations: 1761 in Cluster 3\n",
      "Minimum number of observations: 50 in cluster 7\n"
     ]
    }
   ],
   "source": [
    "# Find the maximum and minimum number of observations\n",
    "max_observations = max(cluster_counts.values())\n",
    "min_observations = min(cluster_counts.values())\n",
    "\n",
    "# Print the maximum and minimum number of observations\n",
    "print(f\"Maximum number of observations: {max_observations} in Cluster 3\")\n",
    "print(f\"Minimum number of observations: {min_observations} in cluster 7\")"
   ]
  },
  {
   "attachments": {},
   "cell_type": "markdown",
   "metadata": {},
   "source": [
    "4. Instead of looking at the average value in each variable individually, we’ll just look at the top 6 words in each cluster.\n",
    "\n",
    "Compute the mean frequency values of each of the words in cluster 1, and then output the 6 words that occur the most frequently.\n",
    "\n",
    "What is the most frequent word in this cluster, in terms of average value?"
   ]
  },
  {
   "cell_type": "code",
   "execution_count": 14,
   "metadata": {},
   "outputs": [
    {
     "name": "stdout",
     "output_type": "stream",
     "text": [
      "Top 6 words in cluster 1:\n",
      "poll          2.429639\n",
      "kerry         2.012453\n",
      "bush          1.922790\n",
      "democrat      1.823163\n",
      "republican    1.328767\n",
      "elect         1.165629\n",
      "dtype: float64\n"
     ]
    }
   ],
   "source": [
    "import pandas as pd\n",
    "from sklearn.cluster import AgglomerativeClustering\n",
    "\n",
    "# Find the top 6 words with the highest mean frequency in cluster 1\n",
    "cluster1 = df[clusters == 0]  # filter out cluster 1 data\n",
    "mean_freq = cluster1.mean()  # compute the mean frequency of each word in cluster 1\n",
    "top6_words = mean_freq.nlargest(6)  # find the top 6 words with the highest mean frequency\n",
    "print(f\"Top 6 words in cluster 1:\\n{top6_words}\")\n"
   ]
  },
  {
   "attachments": {},
   "cell_type": "markdown",
   "metadata": {},
   "source": [
    "### Computing the frequenct of top 100 words"
   ]
  },
  {
   "cell_type": "code",
   "execution_count": 21,
   "metadata": {},
   "outputs": [
    {
     "data": {
      "text/plain": [
       "poll          2.429639\n",
       "kerry         2.012453\n",
       "bush          1.922790\n",
       "democrat      1.823163\n",
       "republican    1.328767\n",
       "                ...   \n",
       "ballot        0.174346\n",
       "place         0.174346\n",
       "florida       0.170610\n",
       "register      0.170610\n",
       "start         0.170610\n",
       "Length: 100, dtype: float64"
      ]
     },
     "execution_count": 21,
     "metadata": {},
     "output_type": "execute_result"
    }
   ],
   "source": [
    "top100_words = mean_freq.nlargest(100)  # find the top 6 words with the highest mean frequency\n",
    "top100_words"
   ]
  },
  {
   "cell_type": "code",
   "execution_count": 22,
   "metadata": {},
   "outputs": [
    {
     "name": "stdout",
     "output_type": "stream",
     "text": [
      "Most frequent word in cluster 1 is poll\n"
     ]
    }
   ],
   "source": [
    "#What is the most frequent word in this cluster, in terms of average value?\n",
    "\n",
    "print('Most frequent word in cluster 1 is poll')"
   ]
  },
  {
   "attachments": {},
   "cell_type": "markdown",
   "metadata": {},
   "source": [
    "5. (10 points) Now repeat the command given in the previous problem for each of the other clusters, and answer the following questions.\n",
    "\n",
    "Which cluster could best be described as the cluster related to the Iraq war?\n",
    "In 2004, one of the candidates for the Democratic nomination for the President of the United States was Howard Dean, John Kerry was the candidate who won the democratic nomination, and John Edwards with the running mate of John Kerry (the Vice President nominee). Given this information, which cluster best corresponds to the democratic party?\n",
    "\n"
   ]
  },
  {
   "cell_type": "code",
   "execution_count": 23,
   "metadata": {},
   "outputs": [
    {
     "name": "stdout",
     "output_type": "stream",
     "text": [
      "\n",
      "Top 6 words in cluster 1:\n",
      "poll          2.429639\n",
      "kerry         2.012453\n",
      "bush          1.922790\n",
      "democrat      1.823163\n",
      "republican    1.328767\n",
      "elect         1.165629\n",
      "dtype: float64\n",
      "\n",
      "Top 6 words in cluster 2:\n",
      "kerry       8.101796\n",
      "bush        7.574850\n",
      "campaign    1.862275\n",
      "poll        1.736527\n",
      "presided    1.616766\n",
      "democrat    1.389222\n",
      "dtype: float64\n",
      "\n",
      "Top 6 words in cluster 3:\n",
      "bush          1.546281\n",
      "democrat      0.659852\n",
      "kerry         0.607609\n",
      "state         0.542873\n",
      "presided      0.526973\n",
      "republican    0.519591\n",
      "dtype: float64\n",
      "\n",
      "Top 6 words in cluster 4:\n",
      "november     10.376543\n",
      "poll          4.851852\n",
      "vote          4.376543\n",
      "challenge     4.104938\n",
      "bush          2.858025\n",
      "democrat      2.858025\n",
      "dtype: float64\n",
      "\n",
      "Top 6 words in cluster 5:\n",
      "bush              4.777778\n",
      "iraq              3.425926\n",
      "war               2.470370\n",
      "administration    2.225926\n",
      "american          1.633333\n",
      "presided          1.488889\n",
      "dtype: float64\n",
      "\n",
      "Top 6 words in cluster 6:\n",
      "dean         12.309091\n",
      "kerry         5.345455\n",
      "democrat      3.545455\n",
      "edward        2.818182\n",
      "candidate     2.727273\n",
      "gephardt      2.672727\n",
      "dtype: float64\n",
      "\n",
      "Top 6 words in cluster 7:\n",
      "democrat      12.38\n",
      "parties        6.34\n",
      "state          5.74\n",
      "republican     5.64\n",
      "senate         3.30\n",
      "seat           3.14\n",
      "dtype: float64\n"
     ]
    }
   ],
   "source": [
    "import pandas as pd\n",
    "from sklearn.cluster import AgglomerativeClustering\n",
    "\n",
    "# Find the top 6 words with the highest mean frequency for each cluster\n",
    "for i in range(7):\n",
    "    cluster = df[clusters == i]\n",
    "    mean_freq = cluster.mean()\n",
    "    top6_words = mean_freq.nlargest(6)\n",
    "    print(f\"\\nTop 6 words in cluster {i+1}:\\n{top6_words}\")\n"
   ]
  },
  {
   "cell_type": "code",
   "execution_count": 24,
   "metadata": {},
   "outputs": [
    {
     "name": "stdout",
     "output_type": "stream",
     "text": [
      "Cluster 5 corresponds to the Iraq War.\n"
     ]
    }
   ],
   "source": [
    "# Which cluster corresponds to the Iraq War?\n",
    "\n",
    "print(\"Cluster 5 corresponds to the Iraq War.\")"
   ]
  },
  {
   "cell_type": "code",
   "execution_count": 25,
   "metadata": {},
   "outputs": [
    {
     "name": "stdout",
     "output_type": "stream",
     "text": [
      "Cluster 6 corresponds to the Democratic party.\n"
     ]
    }
   ],
   "source": [
    "# Which cluster corresponds to the Democratic party?\n",
    "\n",
    "print(\"Cluster 6 corresponds to the Democratic party.\")"
   ]
  },
  {
   "attachments": {},
   "cell_type": "markdown",
   "metadata": {},
   "source": [
    "6. (10 points) Now, run k-means clustering, setting the random state to 1000. Again, pick the number of clusters equal to 7.\n",
    "\n",
    "Subset your data into the 7 clusters (7 new datasets) by using the \"cluster\" variable of your kmeans output.\n",
    "\n",
    "How many observations are in Cluster 3?\n",
    "Which cluster has the most observations?\n",
    "Which cluster has the fewest number of observations?"
   ]
  },
  {
   "cell_type": "code",
   "execution_count": 26,
   "metadata": {},
   "outputs": [
    {
     "name": "stdout",
     "output_type": "stream",
     "text": [
      "Number of observations in Cluster 3: 330\n",
      "Cluster with the most observations: Cluster 2\n",
      "Cluster with the fewest observations: Cluster 6\n"
     ]
    }
   ],
   "source": [
    "from sklearn.cluster import KMeans\n",
    "df  = pd.read_csv('dailykos.csv')\n",
    "\n",
    "# Computing k-means clustering of 7 clusters and a random_state set to 1000\n",
    "\n",
    "\n",
    "kmeans = KMeans(n_clusters=7, random_state=1000).fit(df)\n",
    "\n",
    "# Assigning the cluster labels to the kmean cluster frame\n",
    "kmean_cluster = kmeans.labels_\n",
    "\n",
    "# Converting the Numpy ndarray to a Pandas Series\n",
    "kmean_cluster = pd.Series(kmean_cluster)\n",
    "\n",
    "# Counting the number of observations in each cluster\n",
    "cluster_counts1 = kmean_cluster.value_counts()\n",
    "\n",
    "\n",
    "print(f\"Number of observations in Cluster 3: {cluster_counts1.loc[2]}\")\n",
    "print(f\"Cluster with the most observations: Cluster {cluster_counts1.idxmax()+1}\")\n",
    "print(f\"Cluster with the fewest observations: Cluster {cluster_counts1.idxmin()+1}\")\n"
   ]
  },
  {
   "cell_type": "code",
   "execution_count": 27,
   "metadata": {},
   "outputs": [
    {
     "name": "stdout",
     "output_type": "stream",
     "text": [
      "Number of Observations in Cluster 2: 1937\n",
      "Number of Observations in Cluster 4: 368\n",
      "Number of Observations in Cluster 1: 339\n",
      "Number of Observations in Cluster 3: 330\n",
      "Number of Observations in Cluster 7: 264\n",
      "Number of Observations in Cluster 5: 153\n",
      "Number of Observations in Cluster 6: 39\n"
     ]
    }
   ],
   "source": [
    "# Print the number of observations in each cluster\n",
    "for cluster, count in cluster_counts1.items():\n",
    "    print(f\"Number of Observations in Cluster {cluster+1}: {count}\")"
   ]
  },
  {
   "attachments": {},
   "cell_type": "markdown",
   "metadata": {},
   "source": [
    "7. (10 points) Now, output the six most frequent words in each cluster, like we did in the previous problem, for each of the k-means clusters.\n",
    "\n",
    "Which k-means cluster best corresponds to the Iraq War?\n",
    "Which k-means cluster best corresponds to the democratic party? (Remember that we are looking for the names of the key democratic party leaders.)"
   ]
  },
  {
   "cell_type": "code",
   "execution_count": 28,
   "metadata": {},
   "outputs": [
    {
     "name": "stdout",
     "output_type": "stream",
     "text": [
      "\n",
      "Top 6 words in K-means cluster  1 :\n",
      "democrat      3.064897\n",
      "republican    2.920354\n",
      "state         2.094395\n",
      "elect         1.970501\n",
      "parties       1.793510\n",
      "vote          1.643068\n",
      "Name: 0, dtype: float64\n",
      "\n",
      "Top 6 words in K-means cluster  2 :\n",
      "bush        1.183789\n",
      "kerry       0.799690\n",
      "poll        0.724832\n",
      "democrat    0.631905\n",
      "general     0.505421\n",
      "elect       0.488384\n",
      "Name: 1, dtype: float64\n",
      "\n",
      "Top 6 words in K-means cluster  3 :\n",
      "november     10.369697\n",
      "poll          4.863636\n",
      "vote          4.439394\n",
      "challenge     4.127273\n",
      "bush          3.081818\n",
      "democrat      2.866667\n",
      "Name: 2, dtype: float64\n",
      "\n",
      "Top 6 words in K-means cluster  4 :\n",
      "bush        8.635870\n",
      "kerry       4.934783\n",
      "poll        2.160326\n",
      "presided    1.853261\n",
      "campaign    1.331522\n",
      "democrat    1.312500\n",
      "Name: 3, dtype: float64\n",
      "\n",
      "Top 6 words in K-means cluster  5 :\n",
      "dean        7.725490\n",
      "kerry       5.261438\n",
      "clark       2.993464\n",
      "edward      2.862745\n",
      "democrat    2.633987\n",
      "poll        2.326797\n",
      "Name: 4, dtype: float64\n",
      "\n",
      "Top 6 words in K-means cluster  6 :\n",
      "democrat      15.615385\n",
      "parties        6.589744\n",
      "republican     6.153846\n",
      "state          4.846154\n",
      "senate         4.410256\n",
      "seat           4.282051\n",
      "Name: 5, dtype: float64\n",
      "\n",
      "Top 6 words in K-means cluster  7 :\n",
      "iraq              4.215909\n",
      "bush              3.136364\n",
      "war               3.000000\n",
      "administration    1.863636\n",
      "american          1.772727\n",
      "iraqi             1.643939\n",
      "Name: 6, dtype: float64\n"
     ]
    }
   ],
   "source": [
    "# Compute the top 6 words in each kmean clusters\n",
    "\n",
    "clusters1 = pd.DataFrame(df.groupby(kmean_cluster).mean())\n",
    "\n",
    "for i in range(0,7):\n",
    "    print(\"\\nTop 6 words in K-means cluster \", i+1, \":\")\n",
    "    print(clusters1.iloc[i,:].nlargest(6))"
   ]
  },
  {
   "cell_type": "code",
   "execution_count": 29,
   "metadata": {},
   "outputs": [
    {
     "name": "stdout",
     "output_type": "stream",
     "text": [
      "Cluster 7 corresponds to the Iraq War.\n"
     ]
    }
   ],
   "source": [
    "# Which k-means cluster corresponds to the Iraq War?\n",
    "print(\"Cluster 7 corresponds to the Iraq War.\")"
   ]
  },
  {
   "cell_type": "code",
   "execution_count": 30,
   "metadata": {},
   "outputs": [
    {
     "name": "stdout",
     "output_type": "stream",
     "text": [
      "Cluster 5 corresponds to the Democratic party.\n"
     ]
    }
   ],
   "source": [
    "# Which cluster corresponds to the Democratic party?\n",
    "\n",
    "print(\"Cluster 5 corresponds to the Democratic party.\")"
   ]
  },
  {
   "attachments": {},
   "cell_type": "markdown",
   "metadata": {},
   "source": [
    "8. (10 points) For the rest of this problem, I’ll ask you to compare how observations were assigned to clusters in the two different methods. You could use the Pandas crosstab function to compare the cluster assignment of hierarchical clustering to the cluster assignment of k-means clustering. :\n",
    "\n",
    "Which Hierarchical Cluster best corresponds to K-Means Cluster 2?\n",
    "Which Hierarchical Cluster best corresponds to K-Means Cluster 3?"
   ]
  },
  {
   "cell_type": "code",
   "execution_count": 31,
   "metadata": {},
   "outputs": [
    {
     "name": "stdout",
     "output_type": "stream",
     "text": [
      "Crosstab comparison:\n",
      "\n",
      "K-means          0     1    2    3   4   5    6\n",
      "Agglomerative                                  \n",
      "0              240   367    1   97  89   4    5\n",
      "1                2    38    4  114   6   0    3\n",
      "2               75  1509    0   94   4   0   79\n",
      "3                0     0  324    0   0   0    0\n",
      "4               10    23    0   59   0   1  177\n",
      "5                0     0    0    0  54   1    0\n",
      "6               12     0    1    4   0  33    0\n"
     ]
    }
   ],
   "source": [
    "df['clusters'] = clusters\n",
    "\n",
    "# Creating a crosstab comparing the both clustering\n",
    "print(\"Crosstab comparison:\\n\")\n",
    "\n",
    "comparison_crosstab = pd.crosstab(clusters, kmean_cluster, rownames=['Agglomerative'], colnames=['K-means'])\n",
    "print(comparison_crosstab)\n",
    "\n",
    "# Finding the best corresponding agglomerative cluster for each K-means cluster\n",
    "best_corresponding_hierarchical_clusters = comparison_crosstab.idxmax(axis=0)\n",
    "\n"
   ]
  },
  {
   "cell_type": "code",
   "execution_count": 33,
   "metadata": {},
   "outputs": [
    {
     "name": "stdout",
     "output_type": "stream",
     "text": [
      "\n",
      " Hierarchical (Agglomerative) Cluster best corresponding to K-Means Cluster 2: Cluster 3\n",
      "\n",
      " Hierarchical (Agglomerative) Cluster best corresponding to K-Means Cluster 3: Cluster 4 \n"
     ]
    }
   ],
   "source": [
    "# Which Hierarchical Cluster best corresponds to K-Means Cluster 2?\n",
    "print(f\"\\n Hierarchical (Agglomerative) Cluster best corresponding to K-Means Cluster 2: Cluster 3\")\n",
    "\n",
    "# Which Hierarchical Cluster best corresponds to K-Means Cluster 3?\n",
    "print(f\"\\n Hierarchical (Agglomerative) Cluster best corresponding to K-Means Cluster 3: Cluster 4 \")\n"
   ]
  },
  {
   "cell_type": "code",
   "execution_count": null,
   "metadata": {},
   "outputs": [],
   "source": []
  }
 ],
 "metadata": {
  "kernelspec": {
   "display_name": "base",
   "language": "python",
   "name": "python3"
  },
  "language_info": {
   "codemirror_mode": {
    "name": "ipython",
    "version": 3
   },
   "file_extension": ".py",
   "mimetype": "text/x-python",
   "name": "python",
   "nbconvert_exporter": "python",
   "pygments_lexer": "ipython3",
   "version": "3.9.12"
  },
  "orig_nbformat": 4,
  "vscode": {
   "interpreter": {
    "hash": "7758e92e9a61d7a3490898707f7eeb937c85e9d1e8d4e877cc6c187218f226d5"
   }
  }
 },
 "nbformat": 4,
 "nbformat_minor": 2
}
